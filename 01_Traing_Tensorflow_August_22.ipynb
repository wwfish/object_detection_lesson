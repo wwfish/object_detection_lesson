{
  "nbformat": 4,
  "nbformat_minor": 0,
  "metadata": {
    "colab": {
      "provenance": [],
      "collapsed_sections": [],
      "machine_shape": "hm",
      "authorship_tag": "ABX9TyNwBFyxKgCldJG995uQcWoZ",
      "include_colab_link": true
    },
    "kernelspec": {
      "name": "python3",
      "display_name": "Python 3"
    },
    "language_info": {
      "name": "python"
    },
    "accelerator": "GPU",
    "gpuClass": "standard"
  },
  "cells": [
    {
      "cell_type": "markdown",
      "metadata": {
        "id": "view-in-github",
        "colab_type": "text"
      },
      "source": [
        "<a href=\"https://colab.research.google.com/github/wwfish/object_detection_lesson/blob/main/01_Traing_Tensorflow_August_22.ipynb\" target=\"_parent\"><img src=\"https://colab.research.google.com/assets/colab-badge.svg\" alt=\"Open In Colab\"/></a>"
      ]
    },
    {
      "cell_type": "code",
      "execution_count": null,
      "metadata": {
        "id": "x1dHT8ZRBPkg"
      },
      "outputs": [],
      "source": [
        "!pip install -q tflite-model-maker-nightly\n",
        "!pip3 install -q pycocotools"
      ]
    },
    {
      "cell_type": "code",
      "source": [
        "import numpy as np\n",
        "import os\n",
        "\n",
        "from tflite_model_maker.config import ExportFormat, QuantizationConfig\n",
        "from tflite_model_maker import model_spec\n",
        "from tflite_model_maker import object_detector\n",
        "\n",
        "from tflite_support import metadata\n",
        "\n",
        "import tensorflow as tf\n",
        "assert tf.__version__.startswith('2')\n",
        "\n",
        "tf.get_logger().setLevel('ERROR')\n",
        "from absl import logging\n",
        "logging.set_verbosity(logging.ERROR)"
      ],
      "metadata": {
        "id": "qL344u4NCIJa"
      },
      "execution_count": null,
      "outputs": []
    },
    {
      "cell_type": "code",
      "source": [
        "# Confirm TF Version\n",
        "print(tf.__version__)"
      ],
      "metadata": {
        "colab": {
          "base_uri": "https://localhost:8080/"
        },
        "id": "NaARNe1EFKBL",
        "outputId": "0aa80dfa-1ca9-4fb2-e772-94839b1097cf"
      },
      "execution_count": null,
      "outputs": [
        {
          "output_type": "stream",
          "name": "stdout",
          "text": [
            "2.8.2\n"
          ]
        }
      ]
    },
    {
      "cell_type": "code",
      "source": [
        "# Download data\n",
        "!gdown 1KLL5rL76q0SnmkoRgT1b_ncPox-_cEvL #combined\n",
        "!unzip -q combined.zip"
      ],
      "metadata": {
        "colab": {
          "base_uri": "https://localhost:8080/"
        },
        "id": "WxyO0evbCQ3H",
        "outputId": "e8bc499f-a4f5-49ad-d3f0-e53d2de30364"
      },
      "execution_count": null,
      "outputs": [
        {
          "output_type": "stream",
          "name": "stdout",
          "text": [
            "Downloading...\n",
            "From: https://drive.google.com/uc?id=1KLL5rL76q0SnmkoRgT1b_ncPox-_cEvL\n",
            "To: /content/combined.zip\n",
            "100% 6.10G/6.10G [00:25<00:00, 242MB/s]\n"
          ]
        }
      ]
    },
    {
      "cell_type": "code",
      "source": [
        "# Load datasets\n",
        "train_data = object_detector.DataLoader.from_pascal_voc(\n",
        "    'train',\n",
        "    'train',\n",
        "   ['ball', 'coals', 'bicycle', 'beetle', 'beer', 'bee', 'bed', 'beard', 'bat', 'bag', 'axe', 'arm', 'ant', 'butterfly', 'bug', 'camel', 'bus', 'boy', 'boat', 'cake', 'box', 'bowl', 'bottle', 'book', 'bird', 'cloud', 'can', 'clothes', 'cat', 'car', 'clock', 'chicken', 'chair', 'caterpillar', 'canoe', 'fire', 'dish', 'cow', 'dog', 'face', 'eye', 'eagle', 'duck', 'door', 'crocodile', 'dolphin', 'furniture', 'house', 'horse', 'girl', 'fruit', 'head', 'hat', 'hand', 'hair', 'guitar', 'goat', 'frog', 'foot', 'food', 'flower', 'fish', 'phone', 'mirror', 'mountain', 'meat', 'motorbike', 'mug', 'nappy', 'man', 'pig', 'pen', 'owl', 'nose', 'mouth', 'lizard', 'knife', 'kangaroo', 'jeans', 'table', 'shoe', 'road', 'swimmers', 'pool', 'tap', 'snake', 'skirt', 'sink', 'shirt', 'shark', 'rabbit', 'pillow', 'wave', 'tree', 'woman', 'vegetable', 'truck', 'window', 'turkey', 'train', 'toy', 'towel', 'toilet', 'rock', 'creek', 'grass', 'shrub']\n",
        ")\n",
        "\n",
        "validation_data = object_detector.DataLoader.from_pascal_voc(\n",
        "    'valid',\n",
        "    'valid',\n",
        "   ['ball', 'coals', 'bicycle', 'beetle', 'beer', 'bee', 'bed', 'beard', 'bat', 'bag', 'axe', 'arm', 'ant', 'butterfly', 'bug', 'camel', 'bus', 'boy', 'boat', 'cake', 'box', 'bowl', 'bottle', 'book', 'bird', 'cloud', 'can', 'clothes', 'cat', 'car', 'clock', 'chicken', 'chair', 'caterpillar', 'canoe', 'fire', 'dish', 'cow', 'dog', 'face', 'eye', 'eagle', 'duck', 'door', 'crocodile', 'dolphin', 'furniture', 'house', 'horse', 'girl', 'fruit', 'head', 'hat', 'hand', 'hair', 'guitar', 'goat', 'frog', 'foot', 'food', 'flower', 'fish', 'phone', 'mirror', 'mountain', 'meat', 'motorbike', 'mug', 'nappy', 'man', 'pig', 'pen', 'owl', 'nose', 'mouth', 'lizard', 'knife', 'kangaroo', 'jeans', 'table', 'shoe', 'road', 'swimmers', 'pool', 'tap', 'snake', 'skirt', 'sink', 'shirt', 'shark', 'rabbit', 'pillow', 'wave', 'tree', 'woman', 'vegetable', 'truck', 'window', 'turkey', 'train', 'toy', 'towel', 'toilet', 'rock', 'creek', 'grass', 'shrub']\n",
        ")\n",
        "\n",
        "test_data = object_detector.DataLoader.from_pascal_voc(\n",
        "    'valid',\n",
        "    'valid',\n",
        "   ['ball', 'coals', 'bicycle', 'beetle', 'beer', 'bee', 'bed', 'beard', 'bat', 'bag', 'axe', 'arm', 'ant', 'butterfly', 'bug', 'camel', 'bus', 'boy', 'boat', 'cake', 'box', 'bowl', 'bottle', 'book', 'bird', 'cloud', 'can', 'clothes', 'cat', 'car', 'clock', 'chicken', 'chair', 'caterpillar', 'canoe', 'fire', 'dish', 'cow', 'dog', 'face', 'eye', 'eagle', 'duck', 'door', 'crocodile', 'dolphin', 'furniture', 'house', 'horse', 'girl', 'fruit', 'head', 'hat', 'hand', 'hair', 'guitar', 'goat', 'frog', 'foot', 'food', 'flower', 'fish', 'phone', 'mirror', 'mountain', 'meat', 'motorbike', 'mug', 'nappy', 'man', 'pig', 'pen', 'owl', 'nose', 'mouth', 'lizard', 'knife', 'kangaroo', 'jeans', 'table', 'shoe', 'road', 'swimmers', 'pool', 'tap', 'snake', 'skirt', 'sink', 'shirt', 'shark', 'rabbit', 'pillow', 'wave', 'tree', 'woman', 'vegetable', 'truck', 'window', 'turkey', 'train', 'toy', 'towel', 'toilet', 'rock', 'creek', 'grass', 'shrub']\n",
        ")"
      ],
      "metadata": {
        "id": "Y3dwlwghCxbJ"
      },
      "execution_count": null,
      "outputs": []
    },
    {
      "cell_type": "code",
      "source": [
        "# Load model spec\n",
        "spec = object_detector.EfficientDetSpec(\n",
        "  model_name='efficientdet-lite2', \n",
        "  uri='https://tfhub.dev/tensorflow/efficientdet/lite2/feature-vector/1', \n",
        "  model_dir='/content/checkpoints',\n",
        "  hparams={'max_instances_per_image': 8000})"
      ],
      "metadata": {
        "id": "ZG_viiQ9DCQ2"
      },
      "execution_count": null,
      "outputs": []
    },
    {
      "cell_type": "code",
      "source": [
        "# Train model\n",
        "model = object_detector.create(train_data, model_spec=spec, batch_size=8, train_whole_model=True, epochs=50, validation_data=validation_data)"
      ],
      "metadata": {
        "colab": {
          "base_uri": "https://localhost:8080/"
        },
        "id": "-YNXAqRfDH3h",
        "outputId": "2535b301-6b71-4cc5-8de5-9182c5e47bb5"
      },
      "execution_count": null,
      "outputs": [
        {
          "output_type": "stream",
          "name": "stdout",
          "text": [
            "Epoch 1/50\n",
            "5681/5681 [==============================] - 2510s 433ms/step - det_loss: 1.4124 - cls_loss: 1.0739 - box_loss: 0.0068 - reg_l2_loss: 0.0990 - loss: 1.5114 - learning_rate: 0.0090 - gradient_norm: 3.5321 - val_det_loss: 1.1127 - val_cls_loss: 0.7716 - val_box_loss: 0.0068 - val_reg_l2_loss: 0.1033 - val_loss: 1.2160\n",
            "Epoch 2/50\n",
            "5681/5681 [==============================] - 2466s 434ms/step - det_loss: 1.1707 - cls_loss: 0.8583 - box_loss: 0.0062 - reg_l2_loss: 0.1074 - loss: 1.2781 - learning_rate: 0.0100 - gradient_norm: 3.3303 - val_det_loss: 1.1325 - val_cls_loss: 0.8176 - val_box_loss: 0.0063 - val_reg_l2_loss: 0.1111 - val_loss: 1.2436\n",
            "Epoch 3/50\n",
            "5681/5681 [==============================] - 2464s 434ms/step - det_loss: 1.1103 - cls_loss: 0.8082 - box_loss: 0.0060 - reg_l2_loss: 0.1147 - loss: 1.2250 - learning_rate: 0.0099 - gradient_norm: 3.2456 - val_det_loss: 1.0008 - val_cls_loss: 0.6740 - val_box_loss: 0.0065 - val_reg_l2_loss: 0.1179 - val_loss: 1.1187\n",
            "Epoch 4/50\n",
            "5681/5681 [==============================] - 2473s 435ms/step - det_loss: 1.0718 - cls_loss: 0.7780 - box_loss: 0.0059 - reg_l2_loss: 0.1209 - loss: 1.1927 - learning_rate: 0.0099 - gradient_norm: 3.1640 - val_det_loss: 1.0483 - val_cls_loss: 0.7340 - val_box_loss: 0.0063 - val_reg_l2_loss: 0.1238 - val_loss: 1.1721\n",
            "Epoch 5/50\n",
            "5681/5681 [==============================] - 2799s 493ms/step - det_loss: 1.0433 - cls_loss: 0.7554 - box_loss: 0.0058 - reg_l2_loss: 0.1264 - loss: 1.1697 - learning_rate: 0.0098 - gradient_norm: 3.1130 - val_det_loss: 1.0007 - val_cls_loss: 0.6942 - val_box_loss: 0.0061 - val_reg_l2_loss: 0.1289 - val_loss: 1.1296\n",
            "Epoch 6/50\n",
            "5681/5681 [==============================] - 2477s 436ms/step - det_loss: 1.0236 - cls_loss: 0.7394 - box_loss: 0.0057 - reg_l2_loss: 0.1313 - loss: 1.1548 - learning_rate: 0.0097 - gradient_norm: 3.0839 - val_det_loss: 0.9906 - val_cls_loss: 0.6698 - val_box_loss: 0.0064 - val_reg_l2_loss: 0.1335 - val_loss: 1.1241\n",
            "Epoch 7/50\n",
            "5681/5681 [==============================] - 2477s 436ms/step - det_loss: 1.0051 - cls_loss: 0.7245 - box_loss: 0.0056 - reg_l2_loss: 0.1355 - loss: 1.1406 - learning_rate: 0.0096 - gradient_norm: 3.0657 - val_det_loss: 0.9949 - val_cls_loss: 0.6808 - val_box_loss: 0.0063 - val_reg_l2_loss: 0.1376 - val_loss: 1.1325\n",
            "Epoch 8/50\n",
            "5681/5681 [==============================] - 2462s 433ms/step - det_loss: 0.9919 - cls_loss: 0.7133 - box_loss: 0.0056 - reg_l2_loss: 0.1395 - loss: 1.1314 - learning_rate: 0.0094 - gradient_norm: 3.0486 - val_det_loss: 0.9493 - val_cls_loss: 0.6460 - val_box_loss: 0.0061 - val_reg_l2_loss: 0.1412 - val_loss: 1.0906\n",
            "Epoch 9/50\n",
            "5681/5681 [==============================] - 2462s 433ms/step - det_loss: 0.9750 - cls_loss: 0.7006 - box_loss: 0.0055 - reg_l2_loss: 0.1429 - loss: 1.1179 - learning_rate: 0.0093 - gradient_norm: 3.0341 - val_det_loss: 0.9821 - val_cls_loss: 0.6695 - val_box_loss: 0.0063 - val_reg_l2_loss: 0.1445 - val_loss: 1.1266\n",
            "Epoch 10/50\n",
            "5681/5681 [==============================] - 2750s 484ms/step - det_loss: 0.9607 - cls_loss: 0.6899 - box_loss: 0.0054 - reg_l2_loss: 0.1458 - loss: 1.1065 - learning_rate: 0.0091 - gradient_norm: 3.0202 - val_det_loss: 0.9769 - val_cls_loss: 0.6622 - val_box_loss: 0.0063 - val_reg_l2_loss: 0.1472 - val_loss: 1.1241\n",
            "Epoch 11/50\n",
            "5681/5681 [==============================] - 2461s 433ms/step - det_loss: 0.9537 - cls_loss: 0.6841 - box_loss: 0.0054 - reg_l2_loss: 0.1486 - loss: 1.1023 - learning_rate: 0.0089 - gradient_norm: 3.0454 - val_det_loss: 0.9459 - val_cls_loss: 0.6381 - val_box_loss: 0.0062 - val_reg_l2_loss: 0.1498 - val_loss: 1.0958\n",
            "Epoch 12/50\n",
            "5681/5681 [==============================] - 2466s 434ms/step - det_loss: 0.9398 - cls_loss: 0.6738 - box_loss: 0.0053 - reg_l2_loss: 0.1511 - loss: 1.0909 - learning_rate: 0.0087 - gradient_norm: 3.0738 - val_det_loss: 0.9834 - val_cls_loss: 0.6782 - val_box_loss: 0.0061 - val_reg_l2_loss: 0.1522 - val_loss: 1.1356\n",
            "Epoch 13/50\n",
            "5681/5681 [==============================] - 2466s 434ms/step - det_loss: 0.9283 - cls_loss: 0.6648 - box_loss: 0.0053 - reg_l2_loss: 0.1532 - loss: 1.0815 - learning_rate: 0.0085 - gradient_norm: 3.0346 - val_det_loss: 0.9262 - val_cls_loss: 0.6381 - val_box_loss: 0.0058 - val_reg_l2_loss: 0.1541 - val_loss: 1.0803\n",
            "Epoch 14/50\n",
            "5681/5681 [==============================] - 2461s 433ms/step - det_loss: 0.9180 - cls_loss: 0.6573 - box_loss: 0.0052 - reg_l2_loss: 0.1550 - loss: 1.0729 - learning_rate: 0.0082 - gradient_norm: 3.0712 - val_det_loss: 0.8562 - val_cls_loss: 0.6064 - val_box_loss: 0.0050 - val_reg_l2_loss: 0.1558 - val_loss: 1.0119\n",
            "Epoch 15/50\n",
            "5681/5681 [==============================] - 2748s 484ms/step - det_loss: 0.9103 - cls_loss: 0.6505 - box_loss: 0.0052 - reg_l2_loss: 0.1566 - loss: 1.0668 - learning_rate: 0.0080 - gradient_norm: 3.0817 - val_det_loss: 0.9090 - val_cls_loss: 0.6203 - val_box_loss: 0.0058 - val_reg_l2_loss: 0.1572 - val_loss: 1.0663\n",
            "Epoch 16/50\n",
            "5681/5681 [==============================] - 2461s 433ms/step - det_loss: 0.9033 - cls_loss: 0.6446 - box_loss: 0.0052 - reg_l2_loss: 0.1579 - loss: 1.0612 - learning_rate: 0.0077 - gradient_norm: 3.0969 - val_det_loss: 0.9006 - val_cls_loss: 0.6068 - val_box_loss: 0.0059 - val_reg_l2_loss: 0.1585 - val_loss: 1.0591\n",
            "Epoch 17/50\n",
            "5681/5681 [==============================] - 2461s 433ms/step - det_loss: 0.8906 - cls_loss: 0.6356 - box_loss: 0.0051 - reg_l2_loss: 0.1589 - loss: 1.0496 - learning_rate: 0.0075 - gradient_norm: 3.0985 - val_det_loss: 0.9173 - val_cls_loss: 0.6101 - val_box_loss: 0.0061 - val_reg_l2_loss: 0.1594 - val_loss: 1.0767\n",
            "Epoch 18/50\n",
            "5681/5681 [==============================] - 2465s 434ms/step - det_loss: 0.8855 - cls_loss: 0.6326 - box_loss: 0.0051 - reg_l2_loss: 0.1598 - loss: 1.0453 - learning_rate: 0.0072 - gradient_norm: 3.1545 - val_det_loss: 0.9005 - val_cls_loss: 0.6022 - val_box_loss: 0.0060 - val_reg_l2_loss: 0.1603 - val_loss: 1.0608\n",
            "Epoch 19/50\n",
            "5681/5681 [==============================] - 2461s 433ms/step - det_loss: 0.8752 - cls_loss: 0.6233 - box_loss: 0.0050 - reg_l2_loss: 0.1606 - loss: 1.0358 - learning_rate: 0.0069 - gradient_norm: 3.1659 - val_det_loss: 0.8649 - val_cls_loss: 0.5757 - val_box_loss: 0.0058 - val_reg_l2_loss: 0.1609 - val_loss: 1.0259\n",
            "Epoch 20/50\n",
            "5681/5681 [==============================] - 2758s 486ms/step - det_loss: 0.8635 - cls_loss: 0.6147 - box_loss: 0.0050 - reg_l2_loss: 0.1612 - loss: 1.0246 - learning_rate: 0.0066 - gradient_norm: 3.1948 - val_det_loss: 0.9175 - val_cls_loss: 0.5747 - val_box_loss: 0.0069 - val_reg_l2_loss: 0.1614 - val_loss: 1.0789\n",
            "Epoch 21/50\n",
            "5681/5681 [==============================] - 2463s 434ms/step - det_loss: 0.8578 - cls_loss: 0.6096 - box_loss: 0.0050 - reg_l2_loss: 0.1616 - loss: 1.0193 - learning_rate: 0.0063 - gradient_norm: 3.2311 - val_det_loss: 0.8293 - val_cls_loss: 0.5547 - val_box_loss: 0.0055 - val_reg_l2_loss: 0.1617 - val_loss: 0.9910\n",
            "Epoch 22/50\n",
            "5681/5681 [==============================] - 2461s 433ms/step - det_loss: 0.8470 - cls_loss: 0.6031 - box_loss: 0.0049 - reg_l2_loss: 0.1618 - loss: 1.0088 - learning_rate: 0.0060 - gradient_norm: 3.2401 - val_det_loss: 0.8104 - val_cls_loss: 0.5233 - val_box_loss: 0.0057 - val_reg_l2_loss: 0.1618 - val_loss: 0.9722\n",
            "Epoch 23/50\n",
            "5681/5681 [==============================] - 2460s 433ms/step - det_loss: 0.8375 - cls_loss: 0.5953 - box_loss: 0.0048 - reg_l2_loss: 0.1618 - loss: 0.9993 - learning_rate: 0.0056 - gradient_norm: 3.2897 - val_det_loss: 0.8173 - val_cls_loss: 0.5358 - val_box_loss: 0.0056 - val_reg_l2_loss: 0.1618 - val_loss: 0.9791\n",
            "Epoch 24/50\n",
            "5681/5681 [==============================] - 2463s 434ms/step - det_loss: 0.8302 - cls_loss: 0.5893 - box_loss: 0.0048 - reg_l2_loss: 0.1617 - loss: 0.9919 - learning_rate: 0.0053 - gradient_norm: 3.3173 - val_det_loss: 0.8371 - val_cls_loss: 0.5458 - val_box_loss: 0.0058 - val_reg_l2_loss: 0.1616 - val_loss: 0.9987\n",
            "Epoch 25/50\n",
            "5681/5681 [==============================] - 2740s 482ms/step - det_loss: 0.8186 - cls_loss: 0.5812 - box_loss: 0.0047 - reg_l2_loss: 0.1615 - loss: 0.9802 - learning_rate: 0.0050 - gradient_norm: 3.3773 - val_det_loss: 0.7914 - val_cls_loss: 0.5032 - val_box_loss: 0.0058 - val_reg_l2_loss: 0.1614 - val_loss: 0.9528\n",
            "Epoch 26/50\n",
            "5681/5681 [==============================] - 2461s 433ms/step - det_loss: 0.8128 - cls_loss: 0.5765 - box_loss: 0.0047 - reg_l2_loss: 0.1613 - loss: 0.9741 - learning_rate: 0.0047 - gradient_norm: 3.4127 - val_det_loss: 0.8129 - val_cls_loss: 0.5556 - val_box_loss: 0.0051 - val_reg_l2_loss: 0.1611 - val_loss: 0.9740\n",
            "Epoch 27/50\n",
            "5681/5681 [==============================] - 2461s 433ms/step - det_loss: 0.8043 - cls_loss: 0.5703 - box_loss: 0.0047 - reg_l2_loss: 0.1609 - loss: 0.9652 - learning_rate: 0.0044 - gradient_norm: 3.4504 - val_det_loss: 0.8371 - val_cls_loss: 0.5566 - val_box_loss: 0.0056 - val_reg_l2_loss: 0.1606 - val_loss: 0.9977\n",
            "Epoch 28/50\n",
            "5681/5681 [==============================] - 2462s 433ms/step - det_loss: 0.7964 - cls_loss: 0.5632 - box_loss: 0.0047 - reg_l2_loss: 0.1604 - loss: 0.9568 - learning_rate: 0.0040 - gradient_norm: 3.5089 - val_det_loss: 0.7773 - val_cls_loss: 0.5103 - val_box_loss: 0.0053 - val_reg_l2_loss: 0.1602 - val_loss: 0.9375\n",
            "Epoch 29/50\n",
            "2972/5681 [==============>...............] - ETA: 18:51 - det_loss: 0.7847 - cls_loss: 0.5549 - box_loss: 0.0046 - reg_l2_loss: 0.1600 - loss: 0.9447 - learning_rate: 0.0038 - gradient_norm: 3.5451"
          ]
        }
      ]
    },
    {
      "cell_type": "code",
      "source": [
        "# Evaluate model\n",
        "model.evaluate(test_data)"
      ],
      "metadata": {
        "id": "51UYLnk2EO1F"
      },
      "execution_count": null,
      "outputs": []
    },
    {
      "cell_type": "code",
      "source": [
        "# Convert model\n",
        "model.export(export_dir='.', tflite_filename='combined-50e.tflite')"
      ],
      "metadata": {
        "id": "Ztv_eFtjEP7m"
      },
      "execution_count": null,
      "outputs": []
    },
    {
      "cell_type": "code",
      "source": [
        "# Download model\n",
        "from google.colab import files\n",
        "files.download('combined-50e.tflite')"
      ],
      "metadata": {
        "id": "wK04GNblH2x3"
      },
      "execution_count": null,
      "outputs": []
    }
  ]
}